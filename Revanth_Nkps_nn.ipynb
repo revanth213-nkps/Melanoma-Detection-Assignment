
{
 "cells": [
  {
   "cell_type": "markdown",
   "metadata": {},
   "source": [
    "# Melanoma Detection using Custom CNN"
   ]
  },
  {
   "cell_type": "code",
   "execution_count": null,
   "metadata": {},
   "outputs": [],
   "source": [
    "import tensorflow as tf
",
    "from tensorflow.keras.models import Sequential
",
    "from tensorflow.keras.layers import Conv2D, MaxPooling2D, Flatten, Dense, Dropout
",
    "from tensorflow.keras.preprocessing.image import ImageDataGenerator
",
    "from tensorflow.keras.optimizers import Adam
",
    "import matplotlib.pyplot as plt
",
    "import numpy as np
",
    "import seaborn as sns
",
    "import pandas as pd
",
    "import os
",
    "import Augmentor"
   ]
  },
  {
   "cell_type": "markdown",
   "metadata": {},
   "source": [
    "## Data Loading & Preprocessing"
   ]
  },
  {
   "cell_type": "code",
   "execution_count": null,
   "metadata": {},
   "outputs": [],
   "source": [
    "# Define paths
",
    "train_dir = '/path_to_training_data'
",
    "val_dir = '/path_to_validation_data'
",
    "
",
    "# Image parameters
",
    "IMG_HEIGHT = 180
",
    "IMG_WIDTH = 180
",
    "BATCH_SIZE = 32
",
    "
",
    "# Data generators
",
    "train_datagen = ImageDataGenerator(rescale=1./255)
",
    "val_datagen = ImageDataGenerator(rescale=1./255)
",
    "
",
    "train_data = train_datagen.flow_from_directory(
",
    "    train_dir,
",
    "    target_size=(IMG_HEIGHT, IMG_WIDTH),
",
    "    batch_size=BATCH_SIZE,
",
    "    class_mode='categorical'
",
    ")
",
    "
",
    "val_data = val_datagen.flow_from_directory(
",
    "    val_dir,
",
    "    target_size=(IMG_HEIGHT, IMG_WIDTH),
",
    "    batch_size=BATCH_SIZE,
",
    "    class_mode='categorical'
",
    ")"
   ]
  },
  {
   "cell_type": "markdown",
   "metadata": {},
   "source": [
    "## Visualize Sample Images"
   ]
  },
  {
   "cell_type": "code",
   "execution_count": null,
   "metadata": {},
   "outputs": [],
   "source": [
    "class_labels = list(train_data.class_indices.keys())
",
    "
",
    "plt.figure(figsize=(10,10))
",
    "for i in range(9):
",
    "    img, label = train_data.next()
",
    "    plt.subplot(3,3,i+1)
",
    "    plt.imshow(img[0])
",
    "    plt.title(class_labels[np.argmax(label[0])])
",
    "    plt.axis('off')
",
    "plt.show()"
   ]
  },
  {
   "cell_type": "markdown",
   "metadata": {},
   "source": [
    "## Build Initial CNN Model"
   ]
  },
  {
   "cell_type": "code",
   "execution_count": null,
   "metadata": {},
   "outputs": [],
   "source": [
    "model = Sequential([
",
    "    Conv2D(32, (3,3), activation='relu', input_shape=(IMG_HEIGHT, IMG_WIDTH, 3)),
",
    "    MaxPooling2D(2,2),
",
    "
",
    "    Conv2D(64, (3,3), activation='relu'),
",
    "    MaxPooling2D(2,2),
",
    "
",
    "    Conv2D(128, (3,3), activation='relu'),
",
    "    MaxPooling2D(2,2),
",
    "
",
    "    Flatten(),
",
    "    Dense(256, activation='relu'),
",
    "    Dropout(0.5),
",
    "    Dense(9, activation='softmax')
",
    "])
",
    "
",
    "model.compile(optimizer=Adam(learning_rate=0.0001),
",
    "              loss='categorical_crossentropy',
",
    "              metrics=['accuracy'])
",
    "
",
    "model.summary()"
   ]
  },
  {
   "cell_type": "markdown",
   "metadata": {},
   "source": [
    "## Train Initial Model"
   ]
  },
  {
   "cell_type": "code",
   "execution_count": null,
   "metadata": {},
   "outputs": [],
   "source": [
    "history = model.fit(
",
    "    train_data,
",
    "    epochs=20,
",
    "    validation_data=val_data
",
    ")"
   ]
  }
 ],
 "metadata": {
  "kernelspec": {
   "display_name": "Python 3",
   "language": "python",
   "name": "python3"
  },
  "language_info": {
   "name": "python",
   "version": "3.8"
  }
 },
 "nbformat": 4,
 "nbformat_minor": 4
}
